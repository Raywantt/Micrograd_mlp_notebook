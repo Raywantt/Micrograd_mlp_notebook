{
 "cells": [
  {
   "cell_type": "markdown",
   "id": "f5f8aea7-a053-4ec3-971b-ab6da08a93d0",
   "metadata": {},
   "source": [
    "# Micrograd and Building an MLP from Scratch\n",
    "In this notebook, we implement a minimal automatic differentiation engine (micrograd) and build a simple multilayer perceptron (MLP) for demonstration. We'll define a `Value` class for autograd, and then build Neuron, Layer, and MLP classes to create a small neural network that can be trained on sample data.\n"
   ]
  },
  {
   "cell_type": "markdown",
   "id": "c13d8b6a-6550-47d6-83cb-54ee49f1e8a1",
   "metadata": {},
   "source": [
    "## 1. Import Libraries and Setup"
   ]
  },
  {
   "cell_type": "code",
   "execution_count": 80,
   "id": "ce2b3f97-ea95-4b80-9b50-91ce27c2c11b",
   "metadata": {},
   "outputs": [],
   "source": [
    "import math\n",
    "import random\n",
    "import numpy as np\n",
    "import matplotlib.pyplot as plt\n",
    "%matplotlib inline"
   ]
  },
  {
   "cell_type": "markdown",
   "id": "656ceaaa-ffef-46e4-8fc8-087d034f0a56",
   "metadata": {},
   "source": [
    "## 2. Defining the `Value` Class\n",
    "The `Value` class is the core of our autograd engine. It encapsulates a scalar value, its gradient, and pointers to its predecessor nodes (forming a computation graph).  \n",
    "- **Attributes:**\n",
    "  - `data`: the scalar numerical value.\n",
    "  - `grad`: gradient (initialized to 0.0) that will be computed during backpropagation.\n",
    "  - `_backward`: a function placeholder for gradient propagation.\n",
    "  - `_prev`: set of previous Value objects that contributed to this value.\n",
    "  - `_op`: a string indicating the operation that produced this node (useful for debugging).\n",
    "  - `label`: an optional label for visualization or debugging.\n"
   ]
  },
  {
   "cell_type": "code",
   "execution_count": 83,
   "id": "8f373f87-0c95-467a-b421-1b8f0a8a6920",
   "metadata": {},
   "outputs": [],
   "source": [
    "class Value:\n",
    "  \n",
    "  def __init__(self, data, _children=(), _op='', label=''):\n",
    "    self.data = data\n",
    "    self.grad = 0.0\n",
    "    self._backward = lambda: None\n",
    "    self._prev = set(_children)\n",
    "    self._op = _op\n",
    "    self.label = label\n",
    "\n",
    "  def __repr__(self):\n",
    "    return f\"Value(data={self.data})\"\n",
    "\n",
    "    #Overloading arithmetic operations\n",
    "  \n",
    "  def __add__(self, other):\n",
    "    other = other if isinstance(other, Value) else Value(other)\n",
    "    out = Value(self.data + other.data, (self, other), '+')\n",
    "    \n",
    "    def _backward():\n",
    "      self.grad += 1.0 * out.grad\n",
    "      other.grad += 1.0 * out.grad\n",
    "    out._backward = _backward\n",
    "    \n",
    "    return out\n",
    "\n",
    "  def __mul__(self, other):\n",
    "    other = other if isinstance(other, Value) else Value(other)\n",
    "    out = Value(self.data * other.data, (self, other), '*')\n",
    "    \n",
    "    def _backward():\n",
    "      self.grad += other.data * out.grad\n",
    "      other.grad += self.data * out.grad\n",
    "    out._backward = _backward\n",
    "      \n",
    "    return out\n",
    "  \n",
    "  def __pow__(self, other):\n",
    "    assert isinstance(other, (int, float)), \"only supporting int/float powers for now\"\n",
    "    out = Value(self.data**other, (self,), f'**{other}')\n",
    "\n",
    "    def _backward():\n",
    "        self.grad += other * (self.data ** (other - 1)) * out.grad\n",
    "    out._backward = _backward\n",
    "\n",
    "    return out\n",
    "  \n",
    "  def __rmul__(self, other): # other * self\n",
    "    return self * other\n",
    "\n",
    "  def __truediv__(self, other): # self / other\n",
    "    return self * other**-1\n",
    "\n",
    "  def __neg__(self): # -self\n",
    "    return self * -1\n",
    "\n",
    "  def __sub__(self, other): # self - other\n",
    "    return self + (-other)\n",
    "\n",
    "  def __radd__(self, other): # other + self\n",
    "    return self + other\n",
    "\n",
    "    #defining the activation function (tanh)\n",
    "\n",
    "  def tanh(self):\n",
    "    x = self.data\n",
    "    t = (math.exp(2*x) - 1)/(math.exp(2*x) + 1)\n",
    "    out = Value(t, (self, ), 'tanh')\n",
    "    \n",
    "    def _backward():\n",
    "      self.grad += (1 - t**2) * out.grad\n",
    "    out._backward = _backward\n",
    "    \n",
    "    return out\n",
    "  \n",
    "  def exp(self):\n",
    "    x = self.data\n",
    "    out = Value(math.exp(x), (self, ), 'exp')\n",
    "    \n",
    "    def _backward():\n",
    "      self.grad += out.data * out.grad # NOTE: in the video I incorrectly used = instead of +=. Fixed here.\n",
    "    out._backward = _backward\n",
    "    \n",
    "    return out\n",
    "  \n",
    "  \n",
    "  def backward(self):\n",
    "\n",
    "    #backpropagation implementation\n",
    "      \n",
    "    topo = []\n",
    "    visited = set()\n",
    "    def build_topo(v):\n",
    "      if v not in visited:\n",
    "        visited.add(v)\n",
    "        for child in v._prev:\n",
    "          build_topo(child)\n",
    "        topo.append(v)\n",
    "    build_topo(self)\n",
    "    \n",
    "    self.grad = 1.0\n",
    "    for node in reversed(topo):\n",
    "      node._backward()"
   ]
  },
  {
   "cell_type": "markdown",
   "id": "86e2520b-ff49-484e-a52b-0c48e7c4e6b5",
   "metadata": {},
   "source": [
    "## 3. Defining the `Neuron` Class\n",
    "A neuron represents a basic unit of a neural network. It:\n",
    "- Holds weights for each input and a bias.\n",
    "- Computes the weighted sum of inputs.\n",
    "- Applies an activation function (here, tanh).\n"
   ]
  },
  {
   "cell_type": "code",
   "execution_count": 86,
   "id": "b8f8d8e4-f603-404f-8a8f-fe5eaa29a43f",
   "metadata": {},
   "outputs": [],
   "source": [
    "class Neuron:\n",
    "    def __init__(self, nin):\n",
    "        self.w = [Value(random.uniform(-1,1)) for _ in range(nin)]\n",
    "        self.b = Value(random.uniform(-1,1))\n",
    "\n",
    "    def __call__(self,x):\n",
    "        # w * x + b\n",
    "        act = sum((wi*xi for wi, xi in zip(self.w,x)), self.b)\n",
    "        out = act.tanh()\n",
    "        return out\n",
    "\n",
    "    def parameters(self):\n",
    "        return self.w + [self.b]"
   ]
  },
  {
   "cell_type": "markdown",
   "id": "5f35e993-6114-4296-a5fb-e4d494ef47ab",
   "metadata": {},
   "source": [
    "## 4. Building a Layer and a Multilayer Perceptron (MLP)\n",
    "We organize neurons into layers, and stack multiple layers to build an MLP.\n",
    "- **Layer:** Contains a list of neurons.\n",
    "- **MLP:** A sequence of layers.\n"
   ]
  },
  {
   "cell_type": "code",
   "execution_count": 89,
   "id": "cc00e9e2-50b3-4630-baab-54501df5689c",
   "metadata": {},
   "outputs": [],
   "source": [
    "class Layer:\n",
    "    def __init__(self,nin,nout):\n",
    "        self.neurons = [Neuron(nin) for _ in range(nout)]\n",
    "\n",
    "    def __call__(self, x):\n",
    "        outs = [n(x) for n in self.neurons]\n",
    "        return outs[0] if len(outs) == 1 else outs\n",
    "\n",
    "    def parameters(self):\n",
    "        return [p for neuron in self.neurons for p in neuron.parameters()]\n",
    "\n",
    "class MLP:\n",
    "    def __init__(self, nin, nouts):\n",
    "        sz = [nin] + nouts\n",
    "        self.layers = [Layer(sz[i], sz[i+1]) for i in range(len(nouts))]\n",
    "\n",
    "    def __call__(self, x):\n",
    "        for layer in self.layers:\n",
    "            x = layer(x)\n",
    "        return x\n",
    "\n",
    "    def parameters(self):\n",
    "        return [p for layer in self.layers for p in layer.parameters()]"
   ]
  },
  {
   "cell_type": "markdown",
   "id": "98b74e34-c60b-4ba6-b04a-b5b446329aea",
   "metadata": {},
   "source": [
    "## 5. Testing the MLP with Sample Data\n",
    "We create an instance of our MLP, pass some input through it, and then train the network on a simple dataset.\n"
   ]
  },
  {
   "cell_type": "code",
   "execution_count": 118,
   "id": "9b2d289f-3287-426c-a599-6399ff20ac3e",
   "metadata": {},
   "outputs": [],
   "source": [
    "x = [2.0, 3.0, -1.0] # inputs \n",
    "n = MLP(3, [4,4,1]) # defining the MLP as 3 inputs, 2 hidden layers of 4 neurons each and 1 output"
   ]
  },
  {
   "cell_type": "markdown",
   "id": "60f9f700-7cf4-4ad3-bbc5-f23d886c2943",
   "metadata": {},
   "source": [
    "### Here we give inputs as xs and also define our desirable targets as ys for training."
   ]
  },
  {
   "cell_type": "code",
   "execution_count": 94,
   "id": "b6337dfd-5bff-48ed-aa8b-050ded046bd9",
   "metadata": {},
   "outputs": [],
   "source": [
    "xs = [\n",
    "    [2.0, 3.0, -1.0],\n",
    "    [3.0, -1.0, 0.5],\n",
    "    [0.5, 1.0, 1.0],\n",
    "    [1.0, 1.0, -1.0],\n",
    "]\n",
    "ys = [1.0, -1.0, -1.0, 1.0]\n",
    "ypreds = [n(x) for x in xs]"
   ]
  },
  {
   "cell_type": "markdown",
   "id": "6a17c01b-8069-45ca-8db4-f23e1ef2fe14",
   "metadata": {},
   "source": [
    "### Doing the forward pass, backward pass and updation of weights and calculating the loss"
   ]
  },
  {
   "cell_type": "code",
   "execution_count": 108,
   "id": "7c589627-7d62-4a47-9f16-726d1d8c7eec",
   "metadata": {},
   "outputs": [
    {
     "name": "stdout",
     "output_type": "stream",
     "text": [
      "0 0.005904483588430149\n",
      "1 0.005815143652664447\n",
      "2 0.005728426464753935\n",
      "3 0.0056442187653247735\n",
      "4 0.005562413713252813\n",
      "5 0.005482910437438475\n",
      "6 0.005405613625650509\n",
      "7 0.005330433146906642\n",
      "8 0.005257283704239599\n",
      "9 0.005186084515030364\n",
      "10 0.005116759016387317\n",
      "11 0.005049234593308567\n",
      "12 0.004983442327597307\n",
      "13 0.00491931676570306\n",
      "14 0.004856795703844502\n",
      "15 0.004795819988930248\n",
      "16 0.0047363333339383\n",
      "17 0.004678282146542857\n",
      "18 0.004621615369892357\n",
      "19 0.004566284334544605\n"
     ]
    }
   ],
   "source": [
    "for k in range(20):\n",
    "    # forward pass\n",
    "    ypreds = [n(x) for x in xs]\n",
    "    loss = sum([(yout - ygt)**2 for ygt, yout in zip(ys, ypreds)])\n",
    "\n",
    "    #backward pass\n",
    "    for p in n.parameters():\n",
    "        p.grad = 0.0\n",
    "    loss.backward()\n",
    "\n",
    "    #update\n",
    "    for p in n.parameters():\n",
    "        p.data += -0.05 * p.grad\n",
    "\n",
    "    print(k, loss.data)"
   ]
  },
  {
   "cell_type": "markdown",
   "id": "582635c3-a54a-4789-bdd4-fe7d9436685a",
   "metadata": {},
   "source": [
    "### checking if our predictions are close to the target values"
   ]
  },
  {
   "cell_type": "code",
   "execution_count": 110,
   "id": "94d64f39-3ac6-494e-a721-36a9a0624a1c",
   "metadata": {},
   "outputs": [
    {
     "data": {
      "text/plain": [
       "[Value(data=0.9698178288215796),\n",
       " Value(data=-0.9761187512832474),\n",
       " Value(data=-0.9679841747247905),\n",
       " Value(data=0.9546128457691276)]"
      ]
     },
     "execution_count": 110,
     "metadata": {},
     "output_type": "execute_result"
    }
   ],
   "source": [
    "ypreds"
   ]
  },
  {
   "cell_type": "markdown",
   "id": "1a6b29ed-97c7-4b6c-9799-6e50980c953e",
   "metadata": {},
   "source": [
    "## We can see that by iterating through the process of forward pass, backward pass and updating weight a few times, the prediction values keeps coming close to the target values, i.e. of 1.0, -1.0, -1.0, 1.0.\n",
    "## The weights keep changing and by backpropagating in each iteration the weights adjust themselves to understand the neural network and get the desired output."
   ]
  },
  {
   "cell_type": "code",
   "execution_count": null,
   "id": "d7917942-b0c1-4165-aa0a-24b3c26ee779",
   "metadata": {},
   "outputs": [],
   "source": []
  }
 ],
 "metadata": {
  "kernelspec": {
   "display_name": "Python [conda env:base] *",
   "language": "python",
   "name": "conda-base-py"
  },
  "language_info": {
   "codemirror_mode": {
    "name": "ipython",
    "version": 3
   },
   "file_extension": ".py",
   "mimetype": "text/x-python",
   "name": "python",
   "nbconvert_exporter": "python",
   "pygments_lexer": "ipython3",
   "version": "3.12.7"
  }
 },
 "nbformat": 4,
 "nbformat_minor": 5
}
